{
 "cells": [
  {
   "cell_type": "markdown",
   "id": "cd4904b1-6f71-4dce-aa5b-c25ade7be843",
   "metadata": {},
   "source": [
    "# Setting Up Your Machine For Deep Learning"
   ]
  },
  {
   "cell_type": "markdown",
   "id": "46dc6fe8-3389-4417-b9fa-247a297fb723",
   "metadata": {},
   "source": [
    "Hey there, explorer! 🚀\n",
    "\n",
    "Guess what?\n",
    "We are about to start a super fun and exciting adventure into the world of deep learning.\n",
    "Now you might be wondering, \"What is deep learning?\".\n",
    "\n",
    "Think of it as a magical tool that not only lets computers recognize things like pictures of cats and dogs, but also helps them create new sounds, melodies, and even whole songs! 🎵🐱🎶\n",
    "\n",
    "Have you ever dreamt of a computer composing its own music, or changing your voice to sound like your favorite cartoon character?\n",
    "With deep learning, all of this becomes possible! 🎤🎧\n",
    "\n",
    "But, just like setting up a new instrument before playing it, we need to make sure our computer is ready for this new world.\n",
    "\n",
    "This guide will help us tune our computer to perfection. We'll get it ready step by step, and i promise it will be super fun! 🎹🧙‍♂️\n",
    "\n",
    "Are you excited to begin?\n",
    "\n"
   ]
  },
  {
   "cell_type": "markdown",
   "id": "eb11c0b6-bbef-43b3-adbc-5ef1ac552c6b",
   "metadata": {},
   "source": [
    "## Understanding the basics"
   ]
  },
  {
   "cell_type": "markdown",
   "id": "69c02f87-0905-456d-bdbc-84e0d9aae2aa",
   "metadata": {},
   "source": [
    "### 🧠 CPU vs GPU"
   ]
  },
  {
   "cell_type": "markdown",
   "id": "e1032c91-a233-4f3d-bb7a-c3ab5719a6b3",
   "metadata": {},
   "source": [
    "The CPU is the brain of the computer, it's so important, that without it, your computer would turn into a simple brick. It's responsible for all the main things a computer does, running windows, your internet browser and your favorite DAW. Under the hood all it's doing is calculating numbers.\n",
    "\n",
    "Now the GPU (Graphics Card) is responsible for making things look pretty. It's wahat you need to play your favorite games, like Diablo, Fifa, Minecraft and all other games you play."
   ]
  },
  {
   "cell_type": "markdown",
   "id": "ca6c824b-817e-438b-905f-b42ccfdea5e6",
   "metadata": {},
   "source": [
    "### Why do i need a GPU"
   ]
  },
  {
   "cell_type": "markdown",
   "id": "ad5870a7-2984-459a-b004-b269721e6fec",
   "metadata": {},
   "source": [
    "The way the GPU is created, is that it's super fast at calculating the numbers that show you the graphics, that simulate physics etc. And because it's so fast at these tasks. AI experts have found out that using your GPU to train your AI application, is alot faster then using your CPU.\n",
    "\n",
    "Now if you don't have a good (or supported) graphics card, you can still use your CPU, however training your AI will take alot longer."
   ]
  },
  {
   "cell_type": "markdown",
   "id": "ad76770b-faaa-4be0-9513-e5f6c32be305",
   "metadata": {},
   "source": [
    "## Checking Your Hardware"
   ]
  },
  {
   "cell_type": "markdown",
   "id": "63be9f22-1ac5-43d8-a3e7-b3050f0009e8",
   "metadata": {},
   "source": [
    "### 🕵️ Become a Computer Detective!"
   ]
  },
  {
   "cell_type": "markdown",
   "id": "1fb6d568-8494-4bb1-99fc-367363477dd9",
   "metadata": {},
   "source": [
    "Before getting started with deep learning, we have to become a bit of a detective and take a look inside our computer. It's just like checking your backpack before you go camping, you want to make sure you have all the essentials!"
   ]
  },
  {
   "cell_type": "markdown",
   "id": "f546424f-c1e3-402c-8e4a-e13ed875e58e",
   "metadata": {},
   "source": [
    "### 🖥️ Do I have a deep learning-friendly GPU?"
   ]
  },
  {
   "cell_type": "markdown",
   "id": "e2761ecf-afda-48e2-8db4-4ac4f33edd3a",
   "metadata": {},
   "source": [
    "1. **Windows:**\n",
    "- Click on the search bar at the bottom\n",
    "- Type in `Device Manager` and click on it.\n",
    "    - Look for `Display adapters` and click on the arrow next to it. If you see names like `NVIDIA` or `AMD`, you might have a compatible GPU! 🌟\n",
    "2. **Mac:**\n",
    "      - Click on the Apple logo on the top left.\n",
    "      - Select `About This Mac`\n",
    "      - Look under `Graphics`. If you see `AMD` or `Radean`, that's a possible GPU! 🎉\n",
    "3. **Linux:**\n",
    "    - Open your terminal\n",
    "    - Type `lspci | grep VGA` and press Enter.\n",
    "    - Names like `NVIDIA`, `AMD`, or `Radeon` mean you might have a compatible GPU! 🎈"
   ]
  },
  {
   "cell_type": "markdown",
   "id": "d9821efb-334f-4586-8f6a-6158f62cd5c6",
   "metadata": {},
   "source": [
    "### 🚀 Is My GPU Ready for Deep Learning?"
   ]
  },
  {
   "cell_type": "markdown",
   "id": "8755f189-4ec9-4c0f-b799-67a54fd511ee",
   "metadata": {},
   "source": [
    "Think of your GPU like a superhero. It might be ready to fly and save the world, or it might still be training to get there. In the industry the widely supported GPUs are `NVIDIA` GPUs. Deep Learning Frameworks like `PyTorch` and `TensorFlow` mainly support `NVIDIA`, while it is possible for `TensorFlow` to use `AMD` GPUs, it will be a very big task to get this working.\n",
    "\n",
    "Check out some reviews on your GPU related to deep learning tasks. Keep an eye out for things like `CUDA cores` (These are the magic units that help with AI), and how new your GPU is. **Newer models usually come with more powers!**"
   ]
  },
  {
   "cell_type": "markdown",
   "id": "071b9dfd-1164-48b2-8206-c8e7262191cd",
   "metadata": {},
   "source": [
    "### 💭 What if I Don't Have a Hero GPU?"
   ]
  },
  {
   "cell_type": "markdown",
   "id": "a7248ec8-b2ce-4b5f-b782-62789ff653b0",
   "metadata": {},
   "source": [
    "Don't worry! Even if your GPU isn't that superhero for deep learning, or if you don't have a GPU, you can still train AI models! There are many magic clouds up in the sky, where alot of powerful GPUs live. These places let you use their superhero GPU for a while, for a small price or often even for free!\n",
    "\n",
    "Here are some to look at:\n",
    "1. **[Google Colab](https://colab.google/)** : This is like a magic playground. It gives you a notebook (a magic book where you can write code and see results). The best part? It comes with a free GPU! Just remember, if you play for too long, the playground might ask you to take a break. \n",
    "2. **[Paperspace](https://www.paperspace.com/)** : This is a realm where you can summon powerful computers with strong GPUs. You can use them for a few coins, but they are super fast and worth it! \n",
    "3. **[Kaggle Notebooks](https://www.kaggle.com/code)** : This place is like a training ground for wizards and witches wanting to experiment. They also offer free GPUs. You can practice, learn, and share with other learners here."
   ]
  },
  {
   "cell_type": "markdown",
   "id": "19dc2404-fc2b-4bdc-bcc2-e9a512966bc7",
   "metadata": {},
   "source": [
    "### 🔍 Quick Recap"
   ]
  },
  {
   "cell_type": "markdown",
   "id": "8ff6435a-9725-4684-bf47-c50ebe432218",
   "metadata": {},
   "source": [
    "- Check your GPU brand.\n",
    "- See if it's a superhero-level GPU for deep learning.\n",
    "- If not, visit one of the magic clouds to borrow their power.\n",
    "\n",
    "In the next section, we'll look at setting up the magic spells (software) we need to start our deep learning journey! 🌌🔮"
   ]
  },
  {
   "cell_type": "markdown",
   "id": "7427f3e9-3275-44ba-81f4-ee5191042e86",
   "metadata": {},
   "source": [
    "## Getting the Necessary Software"
   ]
  },
  {
   "cell_type": "markdown",
   "id": "a763bdb7-f9d0-4962-9bdb-3d47e1b3514b",
   "metadata": {},
   "source": [
    "Before we can cast these deep learning spells, we need to gather the correct ingredients. Think of them as the potions and scrolls needed by wizards before casting their spells"
   ]
  },
  {
   "cell_type": "markdown",
   "id": "02da7f53-6b77-48e6-bb0d-62d5c743508e",
   "metadata": {},
   "source": [
    "### CUDA?"
   ]
  },
  {
   "cell_type": "markdown",
   "id": "93b4f5f8-facd-48a3-a51a-898e7d0022fd",
   "metadata": {},
   "source": [
    "#### 🧙‍♂️ CUDA: The Magical Portal Between Worlds"
   ]
  },
  {
   "cell_type": "markdown",
   "id": "11f30599-5feb-42ea-9b8b-50b9d84c5a0e",
   "metadata": {},
   "source": [
    "Imagine a big magical world, where every sparkle ✨ of magic is a small calculation. This realm is huge and beautiful, with millions of sparkles every second. Now, think of a portal 🌀 that allows wizards to travel between our world, and this magical world. Whenever they are in the magical world, they can use all these tiny sparkles of magic. This portal is what we call `CUDA` 💡. Which officialy stands for `Compute Unified Device Architecture`, yes.. i know.. i didn't think of it either.\n",
    "\n",
    "In the world of computers, billions of calculations happen every second, especially in deep learning and AI 🤖.\n",
    "The main thing in deep learning is crunching huge amounts of data 📊, looking for pattners, understanding images 🖼️, recognizing a voice and even generating new music 🎶! This requires soo much power.\n",
    "\n",
    "**So, what about this `CUDA`?** 🧐\n",
    "\n",
    "`CUDA` is a magical language and set of tools, created by `NVIDIA`, which allows our software (the spells we cast ✨) to communicate directly with `NVIDIA GPUs`. With `CUDA` we can tell the GPU precisely, which calculations to perform and in what order, so we can truly maximize it's power 🚀.\n",
    "\n",
    "Just think of it like this:\n",
    "`CUDA` helps our computer and GPU talk to each other so they can work together to be more powerful (Gogeta vs Vegito anyone? 🥊)\n",
    "\n",
    "Without `CUDA`, our journey into deep learning would be like trying to go mining in those pesky Minecraft caves.\n",
    "With `CUDA`, it's like we've got an enchanted pickaxe ⛏️✨, that lights up the caves when we are digging.\n",
    "Wouldn't we all want a pickaxe like that? 😄"
   ]
  },
  {
   "cell_type": "markdown",
   "id": "d6ee2fd3-dbac-4a43-a87c-7d6d3e7441c9",
   "metadata": {},
   "source": [
    "#### 👁‍🗨 Checking CUDA compatibility with your GPU"
   ]
  },
  {
   "cell_type": "markdown",
   "id": "ebf3dd51-c0fc-4d86-a771-77c9aee872e0",
   "metadata": {},
   "source": [
    "To use this powerful tool, our GPU needs to be able to read this CUDA spellbook.\n",
    "Most newer GPUs are trained in this art, but to make sure, you can visit the [NVIDIA CUDA GPUs page](https://developer.nvidia.com/cuda-gpus). If you see your GPU listed here, you are fully ready for this magical journey!"
   ]
  },
  {
   "cell_type": "markdown",
   "id": "927b8872-4763-4a09-8076-93ab577e697a",
   "metadata": {},
   "source": [
    "**🔮 Installing CUDA**"
   ]
  },
  {
   "attachments": {},
   "cell_type": "markdown",
   "id": "bcc59b18-8f39-4a11-b052-a9776756c84a",
   "metadata": {},
   "source": [
    "Now how do we get this beautiful spellbook?\n",
    "\n",
    "That's the beauty... we don't need to!\n",
    "\n",
    "In a future step, where we will be installing a popular deep learning library, `CUDA` will be installed for you 💝.\n",
    "\n",
    "How easy is that?!"
   ]
  },
  {
   "cell_type": "markdown",
   "id": "ebfbe07d-5c2b-4b93-a836-b8540da4f7e3",
   "metadata": {},
   "source": [
    "## Setting up Python 🐍"
   ]
  },
  {
   "cell_type": "markdown",
   "id": "909ff201-0f2e-4b9f-9244-c7329bf6247a",
   "metadata": {},
   "source": [
    "🚀 Things are starting to get exciting! Remember how wizards use special words to cast spells? Well, in our deep learning adventure, we will be using a magical language called `Python` 🐍 to write our very own spells 🤯 (which are like computer programs!).\n",
    "\n",
    "Just like how every magician needs to know special words to create magic, we need to setup `Python` to start creating our deep learning spells.\n",
    "\n",
    "Let's dive in and get our magic toolkit ready! 🎩✨"
   ]
  },
  {
   "cell_type": "markdown",
   "id": "fd7ee492-143c-41a5-a078-f9c5520511d6",
   "metadata": {},
   "source": [
    "### The Magic of Virtual Environments 🌍✨"
   ]
  },
  {
   "cell_type": "markdown",
   "id": "02850255-7637-4062-b754-524b4b8fb5da",
   "metadata": {},
   "source": [
    "Have you ever seen a magician pull a rabat out of a hat 🐰? or make things float in a specififc magic room?\n",
    "Now imagine if a magician would be doing all their tricks in that same room.\n",
    "Things would get very messy... full of floating rabbits and stuff 😂 (kinda cool though...)"
   ]
  },
  {
   "cell_type": "markdown",
   "id": "c0aeb37b-3a1c-4ca6-a8ef-1affbdceb076",
   "metadata": {},
   "source": [
    "This is where virtual environments come in. Think of these as special magic rooms, where we can practice a specific spell, without affecting all the other spells we might have.\n",
    "\n",
    "By using these rooms, we make sure our magic spells (or code..) don't interfere with eachother and always work the way we want them to.\n",
    "\n",
    "In the coding world, this makes sure that all the different projects we will have, can have their own settings, their own libraries, and even their own version of Python, without messing up the other projects.\n",
    "\n",
    "To create a virtual environment, we will first need our basic version of Python installed (which we can then use to create these magic rooms)."
   ]
  },
  {
   "cell_type": "markdown",
   "id": "6f148a9f-594c-4f6c-bea0-b0919e8640dd",
   "metadata": {},
   "source": [
    "### Setting up our magic language: `Python` (which comes with something called `pip`)"
   ]
  },
  {
   "cell_type": "markdown",
   "id": "c3240e91-3c7b-4d04-9ae2-629b8de29892",
   "metadata": {},
   "source": [
    "#### What the hell is pip 😵‍💫?"
   ]
  },
  {
   "cell_type": "markdown",
   "id": "40a48132-dfb4-4358-b0c7-14e9237a34ec",
   "metadata": {},
   "source": [
    "Imagine you're a wizard, you're progressing and you're discovering there are so many spells, more then what u already know. How do add all these beautiful spells to your spellbook?\n",
    "\n",
    "This is where `pip` comes in!\n",
    "\n",
    "It's like a magical scroll that let's you add more and more spells (or tools) that other wizards have created, all to our own spellbook!\n",
    "\n",
    "Want to play with images or sounds? Ask `pip` to bring you the right spells! (or in the real world, the library).\n",
    "\n",
    "Now how do we set all this up?"
   ]
  },
  {
   "cell_type": "markdown",
   "id": "1afcf7d1-4b99-4e74-9605-ab5ebbebeba9",
   "metadata": {},
   "source": [
    "#### How to install"
   ]
  },
  {
   "cell_type": "markdown",
   "id": "2f643c93-05f5-4935-a003-95d7419b9c7a",
   "metadata": {},
   "source": [
    "1. Go to [Python's official website](https://www.python.org/downloads/) and download the latest version.\n",
    "2. Open the installer you download, and follow the instructions. *Make sure to check the box that says `Add Python to PATH` during installation (this so we can use python from anywhere on our PC)"
   ]
  },
  {
   "cell_type": "markdown",
   "id": "1500537e-23da-45fd-bccf-902ff29fc7d0",
   "metadata": {},
   "source": [
    "Now let's make sure everything.\n",
    "To do that we will need to start using the command line."
   ]
  },
  {
   "cell_type": "markdown",
   "id": "97495f23-dc98-448a-bb7b-6687cee567bc",
   "metadata": {},
   "source": [
    "### The wizards crystal ball 🔮"
   ]
  },
  {
   "cell_type": "markdown",
   "id": "8a646278-73da-4286-bc46-9c6c755b660c",
   "metadata": {},
   "source": [
    "Before we check our Python installation, we need to get to know one of the most important tools for a wizard: The Crystal Ball, or in professional terms - the Command Line (for Windows) or the Termianl (for Mac and Linux)."
   ]
  },
  {
   "cell_type": "markdown",
   "id": "e105fbb2-3157-4b5a-810d-7be5cf12f0ec",
   "metadata": {},
   "source": [
    "#### What is the Command Line/Terminal?"
   ]
  },
  {
   "cell_type": "markdown",
   "id": "c9a79489-14fc-4a88-a5ce-7b3a021932d8",
   "metadata": {},
   "source": [
    "Imagine you have a crystal ball. Whenever you ask it something, you're actually giving it a command, and the crystal ball executes this command for you instantly.\n",
    "\n",
    "The command line or terminal is exactly like that crystall ball! It's a place where you enter commands, and the computer immediatly does what you tell it to."
   ]
  },
  {
   "cell_type": "markdown",
   "id": "c595899d-e13c-4e67-b894-f68e938cede3",
   "metadata": {},
   "source": [
    "#### How to access it"
   ]
  },
  {
   "cell_type": "markdown",
   "id": "63d17a0b-fb50-46db-97dd-10c478796c0f",
   "metadata": {},
   "source": [
    "- **Windows Users 🪟:** Press the `Windows + R` keys together, a small window will pop up. Type `cmd` and press Enter. This will open up the command Line.\n",
    "- **Mac Users 🍏:** Press `Command + Space` to open up Spotlight. Type `terminal` and press Enter.\n",
    "- **Linux Users 🐧:** This varies a bit depending on which distribution u use, but usually, you can find the Terminal in your applications menu or using your keyboard shortcuts like `ctrl + alt + t`."
   ]
  },
  {
   "cell_type": "markdown",
   "id": "6a0f70a7-7a5f-4d7e-85b2-4cb41c1607f3",
   "metadata": {},
   "source": [
    "### Checking our Python using our Crystal Ball"
   ]
  },
  {
   "attachments": {
    "abd31efd-0912-411d-b902-7c7f26bb4bbc.png": {
     "image/png": "[encoded data removed]"
    }
   },
   "cell_type": "markdown",
   "id": "aec01ee3-9f03-43ec-b4e6-9ad6e3a8be64",
   "metadata": {},
   "source": [
    "Now that we know how to open our crystal ball, we can give it some commands to check out if Python is succesfully installed:\n",
    "\n",
    "1. Open your crystal ball\n",
    "2. Type `python --version` and press Enter\n",
    "3. The crystal ball should tell you which version of Python you have installed. If it does, that means your Python spellbook, is ready to work! If not, it means your Python was not installed correctly. Try following the Python installation steps again, or leave a comment/email and i will try my best to help you.\n",
    "\n",
    "![image.png](attachment:abd31efd-0912-411d-b902-7c7f26bb4bbc.png)"
   ]
  },
  {
   "cell_type": "markdown",
   "id": "37b15607-613d-4ae9-88c1-24859fce267d",
   "metadata": {},
   "source": [
    "#### Checking our pip install"
   ]
  },
  {
   "attachments": {
    "bc672eb9-5424-497e-8068-5dec527883c5.png": {
     "image/png": "[encoded data removed]"
    }
   },
   "cell_type": "markdown",
   "id": "44aa773f-8e41-44f4-9410-97d5273be853",
   "metadata": {},
   "source": [
    "On the same note as checking for Python, we can check for `pip`.\n",
    "\n",
    "1. In the same crystal ball type in: `pip --version`\n",
    "\n",
    "![image.png](attachment:bc672eb9-5424-497e-8068-5dec527883c5.png)\n",
    "\n",
    "If it shows a version number, you are good to go!"
   ]
  },
  {
   "cell_type": "markdown",
   "id": "46bb0c87-874f-47ca-94a0-3def99b76465",
   "metadata": {},
   "source": [
    "## Creating our first Virtual Environment"
   ]
  },
  {
   "attachments": {
    "43768bd6-f97a-4808-a875-d88dfee09046.png": {
     "image/png": "[encoded data removed]"
    },
    "610277eb-2712-4c98-a0bc-f97b60d1ee2a.png": {
     "image/png": "[encoded data removed]"
    }
   },
   "cell_type": "markdown",
   "id": "37a1027b-44e8-42ee-a512-d231fdf48242",
   "metadata": {},
   "source": [
    "Setting up our first magic room (or virtual environment) is super easy!\n",
    "\n",
    "1. Open your explorer, and create a folder on your computer where you would like to store all your deep learning projects. *Mine is located in `D:\\Development\\AI`*\n",
    "2. Now open your crystal ball (Command Line/Terminal) and type:\n",
    "```bash\n",
    "pip install virtualenv\n",
    "```\n",
    "This will install `virtualenv`, which will be our \"environment creating\" magic spell.\n",
    "\n",
    "3. **Windows Users 🪟:**\n",
    "   - In your crystal ball, we have to go to the folder we just created, using a spell called `cd` - which stands for `change directory`. In my case i would type:\n",
    "     ```bash\n",
    "     cd \"D:\\Development\\AI\"\n",
    "     ```\n",
    "   - If the folder you have created is on a different drive then the default, in my case `C` drive, the windows command prompt can sometimes be a bit weird, in my situation it did change the directory succesfully, but it doesn't display it yet:\n",
    "     ![image.png](attachment:43768bd6-f97a-4808-a875-d88dfee09046.png)\n",
    "     \n",
    "     In this case, we would need to tell our crystal ball to work in this different drive - which in my case is the `D` drive.\n",
    "     We can simply do that by writing `[Drive Letter]:`, so i would enter:\n",
    "     ```bash\n",
    "     D:\n",
    "     ```\n",
    "     and then press enter:\n",
    "     ![image.png](attachment:610277eb-2712-4c98-a0bc-f97b60d1ee2a.png)\n",
    "     \n",
    "   - Since we are now in the folder that holds all our AI projects, let's create a folder for our first project, which will be a \"Sample Classifier (more on that later)\", ```"
   ]
  },
  {
   "cell_type": "code",
   "execution_count": null,
   "id": "39073048-d008-4580-aba0-d87a4f6df693",
   "metadata": {},
   "outputs": [],
   "source": []
  }
 ],
 "metadata": {
  "kernelspec": {
   "display_name": "Python 3 (ipykernel)",
   "language": "python",
   "name": "python3"
  },
  "language_info": {
   "codemirror_mode": {
    "name": "ipython",
    "version": 3
   },
   "file_extension": ".py",
   "mimetype": "text/x-python",
   "name": "python",
   "nbconvert_exporter": "python",
   "pygments_lexer": "ipython3",
   "version": "3.11.4"
  }
 },
 "nbformat": 4,
 "nbformat_minor": 5
}
